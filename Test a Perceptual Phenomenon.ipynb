{
 "cells": [
  {
   "cell_type": "markdown",
   "metadata": {},
   "source": [
    "### Analyzing the Stroop Effect\n",
    "\n",
    "\n",
    "(1) What is the independent variable? What is the dependent variable?"
   ]
  },
  {
   "cell_type": "markdown",
   "metadata": {},
   "source": [
    "**In this study , the independent variables are the congruent and incongruent words conditions while the dependent variable is the time it takes to name the ink color of the word presented by seonds.** "
   ]
  },
  {
   "cell_type": "markdown",
   "metadata": {},
   "source": [
    "(2) What is an appropriate set of hypotheses for this task? Specify your null and alternative hypotheses, and clearly define any notation used. Justify your choices."
   ]
  },
  {
   "cell_type": "markdown",
   "metadata": {},
   "source": [
    "**Mathematically :** \n",
    "\n",
    "**H0: μ Tcongruent >= μ Tincongruent  ( This is the null hypothesis ; it's the condition that it's believed to be true before collecting data and going through the statistical analysis).**\n",
    "\n",
    "**H1: μ Tocongruent < μ Tincongruent  ( This is the alternative hypothesis ; it's the condition that would be proved to be true after collecting data and going through the statistical analysis).**\n",
    "\n",
    "\n",
    "**Tcongruent : the time for a group given a congruent words conidtion to name the ink color of the word.** \n",
    "**Tincongruent : the time for a group given an incongruent words condition to name the ink color of the word.**\n",
    "**μ : the population mean for the time to name the ink color of the word.**\n",
    "\n",
    "\n",
    "**Verbally :** \n",
    "\n",
    "**The null hypothesis is that the time for a group given a congruent words condition,which means that the color of each word is the same as the meaning of the word, to name the ink colors is more than or equal to the time when they are given an incongruent words condition to name the ink color of the word.**\n",
    "\n",
    "**The alternative hypothesis is that the time for a group given an congruent words condition,which means that the color of each word is same as the meaning of the word, to name the ink colors is less than the time when they are given an incongruent words condition to name the ink color of the word.**"
   ]
  },
  {
   "cell_type": "markdown",
   "metadata": {},
   "source": [
    "**For this set of data and kind of study , I will perform the Dependent Paired Sample T Test because I am studying the effect of congruent and incongruent words conditions on one group of poeple to see the significant difference for the time to name the ink word color.**\n",
    "\n",
    "**Paired Sample T-Test Assumptions:\n",
    "The dependent variable (time) is continuous.\n",
    "The data set is approximately normally distributed.\n",
    "Testing for normality is conducted on the differences between the two congruent and incongruent conditions, not the raw values of each condition itself.**\n"
   ]
  },
  {
   "cell_type": "markdown",
   "metadata": {},
   "source": [
    "(3) Report some descriptive statistics regarding this dataset. Include at least one measure of central tendency and at least one measure of variability. The name of the data file is 'stroopdata.csv'."
   ]
  },
  {
   "cell_type": "code",
   "execution_count": 202,
   "metadata": {
    "scrolled": true
   },
   "outputs": [
    {
     "data": {
      "text/html": [
       "<div>\n",
       "<style>\n",
       "    .dataframe thead tr:only-child th {\n",
       "        text-align: right;\n",
       "    }\n",
       "\n",
       "    .dataframe thead th {\n",
       "        text-align: left;\n",
       "    }\n",
       "\n",
       "    .dataframe tbody tr th {\n",
       "        vertical-align: top;\n",
       "    }\n",
       "</style>\n",
       "<table border=\"1\" class=\"dataframe\">\n",
       "  <thead>\n",
       "    <tr style=\"text-align: right;\">\n",
       "      <th></th>\n",
       "      <th>Congruent</th>\n",
       "      <th>Incongruent</th>\n",
       "    </tr>\n",
       "  </thead>\n",
       "  <tbody>\n",
       "    <tr>\n",
       "      <th>0</th>\n",
       "      <td>12.079</td>\n",
       "      <td>19.278</td>\n",
       "    </tr>\n",
       "    <tr>\n",
       "      <th>1</th>\n",
       "      <td>16.791</td>\n",
       "      <td>18.741</td>\n",
       "    </tr>\n",
       "    <tr>\n",
       "      <th>2</th>\n",
       "      <td>9.564</td>\n",
       "      <td>21.214</td>\n",
       "    </tr>\n",
       "    <tr>\n",
       "      <th>3</th>\n",
       "      <td>8.630</td>\n",
       "      <td>15.687</td>\n",
       "    </tr>\n",
       "    <tr>\n",
       "      <th>4</th>\n",
       "      <td>14.669</td>\n",
       "      <td>22.803</td>\n",
       "    </tr>\n",
       "  </tbody>\n",
       "</table>\n",
       "</div>"
      ],
      "text/plain": [
       "   Congruent  Incongruent\n",
       "0     12.079       19.278\n",
       "1     16.791       18.741\n",
       "2      9.564       21.214\n",
       "3      8.630       15.687\n",
       "4     14.669       22.803"
      ]
     },
     "execution_count": 202,
     "metadata": {},
     "output_type": "execute_result"
    }
   ],
   "source": [
    "import pandas as pd\n",
    "# openning the stroopdata.csv file and store it in df\n",
    "df = pd.read_csv('stroopdata.csv')\n",
    "# reading the first five rows of the data set \n",
    "df.head()"
   ]
  },
  {
   "cell_type": "code",
   "execution_count": 203,
   "metadata": {},
   "outputs": [
    {
     "data": {
      "text/plain": [
       "24"
      ]
     },
     "execution_count": 203,
     "metadata": {},
     "output_type": "execute_result"
    }
   ],
   "source": [
    "# finding the number of rows in the data set \n",
    "df.shape[0]"
   ]
  },
  {
   "cell_type": "markdown",
   "metadata": {},
   "source": [
    "**I can observe from the number of rows that the sample size for this study is very small.**"
   ]
  },
  {
   "cell_type": "code",
   "execution_count": 204,
   "metadata": {
    "scrolled": true
   },
   "outputs": [
    {
     "data": {
      "text/plain": [
       "False"
      ]
     },
     "execution_count": 204,
     "metadata": {},
     "output_type": "execute_result"
    }
   ],
   "source": [
    "# checking if there are rows with missing values ( False means no rows with missing values)\n",
    "df.isnull().sum().any()"
   ]
  },
  {
   "cell_type": "code",
   "execution_count": 205,
   "metadata": {},
   "outputs": [
    {
     "data": {
      "text/plain": [
       "0"
      ]
     },
     "execution_count": 205,
     "metadata": {},
     "output_type": "execute_result"
    }
   ],
   "source": [
    "# checking if there are rows with zero values (zero means there are no rows with zero values)\n",
    "sum(df['Congruent']==0)+sum(df['Incongruent']==0)"
   ]
  },
  {
   "cell_type": "markdown",
   "metadata": {},
   "source": [
    "## Measures of Central Tendency:"
   ]
  },
  {
   "cell_type": "code",
   "execution_count": 206,
   "metadata": {
    "scrolled": true
   },
   "outputs": [
    {
     "data": {
      "text/html": [
       "<div>\n",
       "<style>\n",
       "    .dataframe thead tr:only-child th {\n",
       "        text-align: right;\n",
       "    }\n",
       "\n",
       "    .dataframe thead th {\n",
       "        text-align: left;\n",
       "    }\n",
       "\n",
       "    .dataframe tbody tr th {\n",
       "        vertical-align: top;\n",
       "    }\n",
       "</style>\n",
       "<table border=\"1\" class=\"dataframe\">\n",
       "  <thead>\n",
       "    <tr style=\"text-align: right;\">\n",
       "      <th></th>\n",
       "      <th>Congruent</th>\n",
       "      <th>Incongruent</th>\n",
       "    </tr>\n",
       "  </thead>\n",
       "  <tbody>\n",
       "    <tr>\n",
       "      <th>count</th>\n",
       "      <td>24.000000</td>\n",
       "      <td>24.000000</td>\n",
       "    </tr>\n",
       "    <tr>\n",
       "      <th>mean</th>\n",
       "      <td>14.051125</td>\n",
       "      <td>22.015917</td>\n",
       "    </tr>\n",
       "    <tr>\n",
       "      <th>std</th>\n",
       "      <td>3.559358</td>\n",
       "      <td>4.797057</td>\n",
       "    </tr>\n",
       "    <tr>\n",
       "      <th>min</th>\n",
       "      <td>8.630000</td>\n",
       "      <td>15.687000</td>\n",
       "    </tr>\n",
       "    <tr>\n",
       "      <th>25%</th>\n",
       "      <td>11.895250</td>\n",
       "      <td>18.716750</td>\n",
       "    </tr>\n",
       "    <tr>\n",
       "      <th>50%</th>\n",
       "      <td>14.356500</td>\n",
       "      <td>21.017500</td>\n",
       "    </tr>\n",
       "    <tr>\n",
       "      <th>75%</th>\n",
       "      <td>16.200750</td>\n",
       "      <td>24.051500</td>\n",
       "    </tr>\n",
       "    <tr>\n",
       "      <th>max</th>\n",
       "      <td>22.328000</td>\n",
       "      <td>35.255000</td>\n",
       "    </tr>\n",
       "  </tbody>\n",
       "</table>\n",
       "</div>"
      ],
      "text/plain": [
       "       Congruent  Incongruent\n",
       "count  24.000000    24.000000\n",
       "mean   14.051125    22.015917\n",
       "std     3.559358     4.797057\n",
       "min     8.630000    15.687000\n",
       "25%    11.895250    18.716750\n",
       "50%    14.356500    21.017500\n",
       "75%    16.200750    24.051500\n",
       "max    22.328000    35.255000"
      ]
     },
     "execution_count": 206,
     "metadata": {},
     "output_type": "execute_result"
    }
   ],
   "source": [
    "df.describe()"
   ]
  },
  {
   "cell_type": "markdown",
   "metadata": {},
   "source": [
    "**I can observe that the sample size for this data set is very small , 24 rows. The mean time to name the ink word color for the group given congruent words condition is less than the time when given incongruent words condition (14.05 < 22.02). In addtion, I can observe from the min and max times for the group to name the ink word color given congruent words condition are less than when they are given incongruent words condition.**"
   ]
  },
  {
   "cell_type": "code",
   "execution_count": 207,
   "metadata": {},
   "outputs": [
    {
     "data": {
      "text/plain": [
       "14.051124999999999"
      ]
     },
     "execution_count": 207,
     "metadata": {},
     "output_type": "execute_result"
    }
   ],
   "source": [
    "# finding the average time to name the ink color of a word for the group given congruent words condition \n",
    "m1=df['Congruent'].mean()\n",
    "m1"
   ]
  },
  {
   "cell_type": "code",
   "execution_count": 208,
   "metadata": {
    "scrolled": true
   },
   "outputs": [
    {
     "data": {
      "text/plain": [
       "22.015916666666666"
      ]
     },
     "execution_count": 208,
     "metadata": {},
     "output_type": "execute_result"
    }
   ],
   "source": [
    "# finding the average time to name the ink color of a word for the same group given incongruent words condition \n",
    "m2=df['Incongruent'].mean()\n",
    "m2"
   ]
  },
  {
   "cell_type": "code",
   "execution_count": 209,
   "metadata": {
    "scrolled": true
   },
   "outputs": [
    {
     "data": {
      "text/plain": [
       "-7.9647916666666667"
      ]
     },
     "execution_count": 209,
     "metadata": {},
     "output_type": "execute_result"
    }
   ],
   "source": [
    "# finding the mean difference of time for the group in congruent and incongruent words condition\n",
    "m1-m2 "
   ]
  },
  {
   "cell_type": "markdown",
   "metadata": {},
   "source": [
    "**I can observe from the difference of the average time for the group given congruent words condition to name the ink colors and when they are given incongruent words condition to name the ink colors is -7.96 , which means that I have sufficient evidence to reject the null hypothesis [H0: μ Tcongruent >= μ Tincongruent ] in favor of the alternative hypothesis.The alternative hypothesis is that the time for a group given an congruent words condition,which means that the color of each word is same as the meaning of the word, to name the ink colors is less than the time when they are given an incongruent words condition to name the ink color of the word. However, this conclusion needs to be also imporved using the paried statistical test.**\n"
   ]
  },
  {
   "cell_type": "code",
   "execution_count": 210,
   "metadata": {},
   "outputs": [
    {
     "data": {
      "text/plain": [
       "14.3565"
      ]
     },
     "execution_count": 210,
     "metadata": {},
     "output_type": "execute_result"
    }
   ],
   "source": [
    "# finding the median time to name the ink colors for the group given congruent words condition \n",
    "df['Congruent'].median()"
   ]
  },
  {
   "cell_type": "code",
   "execution_count": 211,
   "metadata": {
    "scrolled": false
   },
   "outputs": [
    {
     "data": {
      "text/plain": [
       "21.0175"
      ]
     },
     "execution_count": 211,
     "metadata": {},
     "output_type": "execute_result"
    }
   ],
   "source": [
    "# finding the median time to name the ink colors for the same group given incongruent words condition \n",
    "df['Incongruent'].median ()"
   ]
  },
  {
   "cell_type": "markdown",
   "metadata": {},
   "source": [
    "**I can observe from the calculated mean and median that they are nealry the same for the group in congruent and incongruent words conditions.**"
   ]
  },
  {
   "cell_type": "code",
   "execution_count": 212,
   "metadata": {
    "scrolled": false
   },
   "outputs": [
    {
     "data": {
      "text/plain": [
       "0      8.630\n",
       "1      8.987\n",
       "2      9.401\n",
       "3      9.564\n",
       "4     10.639\n",
       "5     11.344\n",
       "6     12.079\n",
       "7     12.130\n",
       "8     12.238\n",
       "9     12.369\n",
       "10    12.944\n",
       "11    14.233\n",
       "12    14.480\n",
       "13    14.669\n",
       "14    14.692\n",
       "15    15.073\n",
       "16    15.298\n",
       "17    16.004\n",
       "18    16.791\n",
       "19    16.929\n",
       "20    18.200\n",
       "21    18.495\n",
       "22    19.710\n",
       "23    22.328\n",
       "dtype: float64"
      ]
     },
     "execution_count": 212,
     "metadata": {},
     "output_type": "execute_result"
    }
   ],
   "source": [
    "# finding the mode time to name the ink colors for the group given congruent words condition \n",
    "df['Congruent'].mode()"
   ]
  },
  {
   "cell_type": "markdown",
   "metadata": {},
   "source": [
    "**I can observe that the mode time to name the ink colors for the group given congruent words condition is 12 seconds.**"
   ]
  },
  {
   "cell_type": "code",
   "execution_count": 213,
   "metadata": {
    "scrolled": true
   },
   "outputs": [
    {
     "data": {
      "text/plain": [
       "0     15.687\n",
       "1     17.394\n",
       "2     17.425\n",
       "3     17.510\n",
       "4     17.960\n",
       "5     18.644\n",
       "6     18.741\n",
       "7     19.278\n",
       "8     20.330\n",
       "9     20.429\n",
       "10    20.762\n",
       "11    20.878\n",
       "12    21.157\n",
       "13    21.214\n",
       "14    22.058\n",
       "15    22.158\n",
       "16    22.803\n",
       "17    23.894\n",
       "18    24.524\n",
       "19    24.572\n",
       "20    25.139\n",
       "21    26.282\n",
       "22    34.288\n",
       "23    35.255\n",
       "dtype: float64"
      ]
     },
     "execution_count": 213,
     "metadata": {},
     "output_type": "execute_result"
    }
   ],
   "source": [
    "# finding the mode time to name the ink colors for the same group given incongruent words condition \n",
    "df['Incongruent'].mode()"
   ]
  },
  {
   "cell_type": "markdown",
   "metadata": {},
   "source": [
    "**I can observe that the mode time to name the ink colors for the same group given incongruent words condition is the two values of 17 and 20 seconds.**"
   ]
  },
  {
   "cell_type": "markdown",
   "metadata": {},
   "source": [
    "**As a final conclusion , since the mean , median and mode are almost the same under each words condition , I can say that the data set is almost noramlly distributed.**"
   ]
  },
  {
   "cell_type": "markdown",
   "metadata": {},
   "source": [
    "## Measures of Variability :"
   ]
  },
  {
   "cell_type": "code",
   "execution_count": 214,
   "metadata": {
    "scrolled": false
   },
   "outputs": [
    {
     "data": {
      "text/plain": [
       "<matplotlib.axes._subplots.AxesSubplot at 0x7f8656d46b70>"
      ]
     },
     "execution_count": 214,
     "metadata": {},
     "output_type": "execute_result"
    },
    {
     "data": {
      "image/png": "[encoded data removed]",
      "text/plain": [
       "<matplotlib.figure.Figure at 0x7f8656d525c0>"
      ]
     },
     "metadata": {
      "needs_background": "light"
     },
     "output_type": "display_data"
    }
   ],
   "source": [
    "import matplotlib.pyplot as plt\n",
    "%matplotlib inline\n",
    "# plotting two box plots for congruent and incongruent words condition.\n",
    "df[['Congruent', 'Incongruent']].plot(kind='box')"
   ]
  },
  {
   "cell_type": "markdown",
   "metadata": {},
   "source": [
    "**I can observe from the box plot above that there are two outliers for the group when they are given incongruent words condition. Since , the group study size is small , I will just keep both of them.**"
   ]
  },
  {
   "cell_type": "code",
   "execution_count": 215,
   "metadata": {},
   "outputs": [
    {
     "data": {
      "text/plain": [
       "13.698000000000002"
      ]
     },
     "execution_count": 215,
     "metadata": {},
     "output_type": "execute_result"
    }
   ],
   "source": [
    "# finding the range time to name the ink colors for the group given congruent words condition \n",
    "df['Congruent'].max()- df['Congruent'].min()"
   ]
  },
  {
   "cell_type": "code",
   "execution_count": 216,
   "metadata": {},
   "outputs": [
    {
     "data": {
      "text/plain": [
       "19.568000000000001"
      ]
     },
     "execution_count": 216,
     "metadata": {},
     "output_type": "execute_result"
    }
   ],
   "source": [
    "# finding the range time to name the ink colors for the same group given incongruent words condition \n",
    "df['Incongruent'].max()- df['Incongruent'].min()"
   ]
  },
  {
   "cell_type": "markdown",
   "metadata": {},
   "source": [
    "**I can observe that the time range to name the ink colors for the group given congruent words condition is less than the time range when they are given incongruent words condition.**"
   ]
  },
  {
   "cell_type": "code",
   "execution_count": 217,
   "metadata": {},
   "outputs": [
    {
     "data": {
      "text/plain": [
       "3.5593579576451955"
      ]
     },
     "execution_count": 217,
     "metadata": {},
     "output_type": "execute_result"
    }
   ],
   "source": [
    "# finding the standard deviation of time naming the ink word color for the group given congruent words condition \n",
    "df['Congruent'].std()"
   ]
  },
  {
   "cell_type": "code",
   "execution_count": 218,
   "metadata": {},
   "outputs": [
    {
     "data": {
      "text/plain": [
       "4.7970571224691376"
      ]
     },
     "execution_count": 218,
     "metadata": {},
     "output_type": "execute_result"
    }
   ],
   "source": [
    "# finding the standard deviation of time naming the ink word color for the same group given incongruent words condition\n",
    "df['Incongruent'].std()"
   ]
  },
  {
   "cell_type": "markdown",
   "metadata": {},
   "source": [
    "**I can observe that how much time to name the color ink on average for each group member is different by 3.56 seconds from the \n",
    "the mean time of 14.05 seconds to name the ink word color for the whole group given congruent words condition.** \n",
    "\n",
    "**I can also can observe that how much time to name the color ink on average for each group member is different by 4.80 seconds from the mean time of 22.02 seconds to name the ink word color for the whole group given incongruent words condition.** \n",
    "\n",
    "**As a final conclusion , I can observe that the standard deviation of the time naming the ink word color for the group given congruent words condition is less than the standard deviation of time naming the ink word color when they are given incongruent words condition.**"
   ]
  },
  {
   "cell_type": "markdown",
   "metadata": {},
   "source": [
    "(4) Provide one or two visualizations that show the distribution of the sample data. Write one or two sentences noting what you observe about the plot or plots."
   ]
  },
  {
   "cell_type": "code",
   "execution_count": 219,
   "metadata": {
    "scrolled": true
   },
   "outputs": [
    {
     "data": {
      "text/plain": [
       "Text(0,0.5,'Number of People')"
      ]
     },
     "execution_count": 219,
     "metadata": {},
     "output_type": "execute_result"
    },
    {
     "data": {
      "image/png": "[encoded data removed]",
      "text/plain": [
       "<matplotlib.figure.Figure at 0x7f8656d71400>"
      ]
     },
     "metadata": {
      "needs_background": "light"
     },
     "output_type": "display_data"
    }
   ],
   "source": [
    "import matplotlib.pyplot as plt\n",
    "%matplotlib inline\n",
    "\n",
    "# plotting the time it take to name the ink word color for group given congruent words condition \n",
    "plt.hist(df['Congruent'])\n",
    "plt.title('Time Distribuation for a Group Given Congruent Words Condition')\n",
    "plt.xlabel('Time in Seconds')\n",
    "plt.ylabel('Number of People')"
   ]
  },
  {
   "cell_type": "code",
   "execution_count": 220,
   "metadata": {},
   "outputs": [
    {
     "data": {
      "text/plain": [
       "Text(0,0.5,'Number of People')"
      ]
     },
     "execution_count": 220,
     "metadata": {},
     "output_type": "execute_result"
    },
    {
     "data": {
      "image/png": "[encoded data removed]",
      "text/plain": [
       "<matplotlib.figure.Figure at 0x7f8656cf1550>"
      ]
     },
     "metadata": {
      "needs_background": "light"
     },
     "output_type": "display_data"
    }
   ],
   "source": [
    "# plotting the time it take to name the ink word color for the same group given incongruent words condition \n",
    "plt.hist(df['Incongruent'],facecolor='g')\n",
    "plt.title('Time Distribuation for a Group Given Incongruent Words Condition')\n",
    "plt.xlabel('Time in Seconds')\n",
    "plt.ylabel('Number of People')"
   ]
  },
  {
   "cell_type": "code",
   "execution_count": 221,
   "metadata": {},
   "outputs": [
    {
     "data": {
      "text/plain": [
       "<matplotlib.legend.Legend at 0x7f8656b7db00>"
      ]
     },
     "execution_count": 221,
     "metadata": {},
     "output_type": "execute_result"
    },
    {
     "data": {
      "image/png": "[encoded data removed]",
      "text/plain": [
       "<matplotlib.figure.Figure at 0x7f8656c46198>"
      ]
     },
     "metadata": {
      "needs_background": "light"
     },
     "output_type": "display_data"
    }
   ],
   "source": [
    "# plotting the time it take to name the ink word color for group given congruent words condition and incongruent words condition\n",
    "plt.hist(df['Congruent'])\n",
    "plt.hist(df['Incongruent'])\n",
    "plt.title('Time Distribuation for a Group Given Congruent and Incongruent Words Condition')\n",
    "plt.xlabel('Time in Seconds')\n",
    "plt.ylabel('Number of People')\n",
    "labels= [\"low\",\"medium\", \"high\"]\n",
    "plt.legend(['Congurent','Incongruent'])"
   ]
  },
  {
   "cell_type": "markdown",
   "metadata": {},
   "source": [
    "**I can observe from the two histograms above that they are nearly normally distributed as their shape is so close to noraml distribuation than any other distribuation shape. I think the small size of the sample is affecting its shape somehow.**"
   ]
  },
  {
   "cell_type": "markdown",
   "metadata": {},
   "source": [
    "(5)  Now, perform the statistical test and report your results. What is your confidence level or Type I error associated with your test? What is your conclusion regarding the hypotheses you set up? Did the results match up with your expectations? **Hint:**  Think about what is being measured on each individual, and what statistic best captures how an individual reacts in each environment."
   ]
  },
  {
   "cell_type": "markdown",
   "metadata": {},
   "source": [
    "**To perform the Paired Sample T-Test , I will need to go into the following steps:**"
   ]
  },
  {
   "cell_type": "code",
   "execution_count": 222,
   "metadata": {},
   "outputs": [
    {
     "data": {
      "text/plain": [
       "24"
      ]
     },
     "execution_count": 222,
     "metadata": {},
     "output_type": "execute_result"
    }
   ],
   "source": [
    "import numpy as np\n",
    "from scipy import stats\n",
    "\n",
    "# finding the sample size for the data set\n",
    "N = df.shape[0]\n",
    "N"
   ]
  },
  {
   "cell_type": "code",
   "execution_count": 223,
   "metadata": {},
   "outputs": [
    {
     "data": {
      "text/plain": [
       "4.8648269103590556"
      ]
     },
     "execution_count": 223,
     "metadata": {},
     "output_type": "execute_result"
    }
   ],
   "source": [
    "# finding the sample standard deviation of the differences between the means\n",
    "sample_diff = df['Congruent']-df['Incongruent']\n",
    "sample_std = sample_diff.std()\n",
    "sample_std"
   ]
  },
  {
   "cell_type": "code",
   "execution_count": 224,
   "metadata": {},
   "outputs": [
    {
     "data": {
      "text/plain": [
       "-8.020706944109957"
      ]
     },
     "execution_count": 224,
     "metadata": {},
     "output_type": "execute_result"
    }
   ],
   "source": [
    "## Calculating the t-statistics\n",
    "import math\n",
    "cong_mean = df['Congruent'].mean()\n",
    "incong_mean = df['Incongruent'].mean()\n",
    "t = (cong_mean - incong_mean)/(sample_std/math.sqrt(N))\n",
    "t "
   ]
  },
  {
   "cell_type": "code",
   "execution_count": 225,
   "metadata": {},
   "outputs": [
    {
     "data": {
      "text/plain": [
       "1.7138715277470473"
      ]
     },
     "execution_count": 225,
     "metadata": {},
     "output_type": "execute_result"
    }
   ],
   "source": [
    "# finding the T critical value\n",
    "from scipy.stats import t\n",
    "# confidence level\n",
    "p = 0.95\n",
    "# degree of freedom\n",
    "deg = 23\n",
    "critical_value = t.ppf(p, deg)\n",
    "critical_value"
   ]
  },
  {
   "cell_type": "code",
   "execution_count": 226,
   "metadata": {},
   "outputs": [
    {
     "data": {
      "text/plain": [
       "Ttest_relResult(statistic=-8.020706944109957, pvalue=4.1030005857111781e-08)"
      ]
     },
     "execution_count": 226,
     "metadata": {},
     "output_type": "execute_result"
    }
   ],
   "source": [
    "# performing the paried sample T test through the ready function to find also the p-value\n",
    "stats.ttest_rel(df['Congruent'], df['Incongruent'])"
   ]
  },
  {
   "cell_type": "markdown",
   "metadata": {},
   "source": [
    "**I can observe that when comparing the absolute  value of the test statistic [-8.02] to the critical value of [1.71] that the test statistic is more than the critical value. Therefore, I have enough evidence to reject the null hypothesis in favor of the alternative hypothesis.**\n",
    "\n",
    "**In addition, I can observe that the p-value is equal to zero which means it's less than the allowed type 1 error , 0.05. Therefore, I have enough evidence to reject the null hypothesis in favor of the alternative hypothesis; that states that the time for a group given an congruent words condition,which means that the color of each word is same as the meaning of the word, to name the ink colors is less than the time when they are given an incongruent words condition to name the ink color of the word.**"
   ]
  },
  {
   "cell_type": "markdown",
   "metadata": {},
   "source": [
    "(6) Optional: What do you think is responsible for the effects observed? Can you think of an alternative or similar task that would result in a similar effect? Some research about the problem will be helpful for thinking about these two questions!"
   ]
  },
  {
   "cell_type": "markdown",
   "metadata": {},
   "source": [
    "**After some reading on Wikipedia among several theories , I found that the ink word color and the word itself affects the speed of naming the ink word color. The human brain reads words faster than recognizing the ink word color. As a result, if an individual was given a word with a mismatched ink color , he or she will take more time to recognize the ink word color. On the other hand, if or she was given a word with a matched ink color , the speed of reconginzing the ink word color will be much fatser.**\n",
    "\n",
    "**Another task similar to the stroop effect is the warped words. When words are printed in a way that is more difficult to read, the individual will take more time to recognize the word itself. The theory here that the way in which the word is printed affects the brains's reaction and the processing time to complete the given task.**\n"
   ]
  },
  {
   "cell_type": "markdown",
   "metadata": {},
   "source": [
    "## Refrences ##\n",
    "\n",
    "[Link 1](https://pythonfordatascience.org/wilcoxon-sign-ranked-test-python/\n",
    ")\n",
    "\n",
    "[Link 2](https://pythonfordatascience.org/paired-samples-t-test-python/\n",
    ")\n",
    "\n",
    "[Link 3](https://pandas.pydata.org/pandas-docs/stable/reference/api/pandas.DataFrame.drop.html\n",
    ")\n",
    "\n",
    "[Link 4](https://conversionxl.com/blog/outliers/\n",
    ")\n",
    "\n",
    "[Link 5](https://www.dummies.com/education/math/statistics/how-to-set-up-a-hypothesis-test-null-versus-alternative/\n",
    ")\n",
    "\n",
    "[Link 6](https://stackoverflow.com/questions/13842088/set-value-for-particular-cell-in-pandas-dataframe-using-index\n",
    ")\n",
    "\n",
    "\n",
    "[Link 7](http://www.statstutor.ac.uk/resources/uploaded/paired-t-test.pdf\n",
    ")\n",
    "\n",
    "[Link 8](https://stackoverflow.com/questions/43872450/matplotlib-histogram-with-legend\n",
    ")\n",
    "\n",
    "[Link 9](https://towardsdatascience.com/statistical-tests-when-to-use-which-704557554740\n",
    ")\n",
    "\n",
    "[Link 10](https://www.pqsystems.com/qualityadvisor/DataAnalysisTools/interpretation/histogram_shape.php\n",
    ")\n",
    "\n",
    "[Link 11](https://www.statisticssolutions.com/manova-analysis-paired-sample-t-test/\n",
    ")\n",
    "\n",
    "[Link 12](https://www.abs.gov.au/websitedbs/a3121120.nsf/home/statistical+language+-+measures+of+spread\n",
    ")\n",
    "\n",
    "[Link 13](http://www.datasciencemadesimple.com/standard-deviation-function-python-pandas-row-column/\n",
    ")\n",
    "\n",
    "[Link 14](https://pythonfordatascience.org/wilcoxon-sign-ranked-test-python/\n",
    ")\n",
    "\n",
    "[Link 15](https://en.wikipedia.org/wiki/Stroop_effect\n",
    ")\n",
    "\n",
    "[Link 16](https://support.minitab.com/en-us/minitab-express/1/help-and-how-to/basic-statistics/inference/supporting-topics/basics/what-is-a-critical-value/\n",
    ")\n",
    "\n",
    "[Link 17](https://libguides.library.kent.edu/spss/pairedsamplesttest\n",
    ")\n",
    "\n",
    "[Link 18](https://machinelearningmastery.com/critical-values-for-statistical-hypothesis-testing/\n",
    ")\n",
    "\n",
    "[Link 19](https://stackoverflow.com/questions/9595135/how-do-i-calculate-square-root-in-python\n",
    ")\n",
    "\n",
    "[Link 20](https://stackoverflow.com/questions/19339305/python-function-to-get-the-t-statistic\n",
    ")\n",
    "\n",
    "[Link 21](https://www.statisticssolutions.com/manova-analysis-paired-sample-t-test/\n",
    ")\n",
    "\n",
    "[Link 22](https://towardsdatascience.com/inferential-statistics-series-t-test-using-numpy-2718f8f9bf2f\n",
    ")\n"
   ]
  }
 ],
 "metadata": {
  "kernelspec": {
   "display_name": "Python 3",
   "language": "python",
   "name": "python3"
  },
  "language_info": {
   "codemirror_mode": {
    "name": "ipython",
    "version": 3
   },
   "file_extension": ".py",
   "mimetype": "text/x-python",
   "name": "python",
   "nbconvert_exporter": "python",
   "pygments_lexer": "ipython3",
   "version": "3.6.3"
  }
 },
 "nbformat": 4,
 "nbformat_minor": 2
}
